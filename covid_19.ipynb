{
  "nbformat": 4,
  "nbformat_minor": 0,
  "metadata": {
    "colab": {
      "name": "time-series-covid-19.ipynb의 사본의 사본의 사본",
      "provenance": [],
      "collapsed_sections": []
    },
    "kernelspec": {
      "name": "python3",
      "display_name": "Python 3"
    },
    "accelerator": "GPU"
  },
  "cells": [
    {
      "cell_type": "code",
      "metadata": {
        "id": "tzMzcTdKygBE",
        "colab_type": "code",
        "outputId": "1ba1cede-1ab8-4859-ff1c-b3d625144c85",
        "colab": {
          "base_uri": "https://localhost:8080/",
          "height": 52
        }
      },
      "source": [
        "import torch\n",
        "\n",
        "import os\n",
        "import numpy as np\n",
        "import pandas as pd\n",
        "from tqdm import tqdm\n",
        "import seaborn as sns\n",
        "from pylab import rcParams\n",
        "import matplotlib.pyplot as plt\n",
        "from matplotlib import rc\n",
        "from sklearn.preprocessing import MinMaxScaler\n",
        "from pandas.plotting import register_matplotlib_converters\n",
        "from torch import nn, optim\n",
        "\n",
        "%matplotlib inline"
      ],
      "execution_count": 1,
      "outputs": [
        {
          "output_type": "stream",
          "text": [
            "/usr/local/lib/python3.6/dist-packages/statsmodels/tools/_testing.py:19: FutureWarning: pandas.util.testing is deprecated. Use the functions in the public API at pandas.testing instead.\n",
            "  import pandas.util.testing as tm\n"
          ],
          "name": "stderr"
        }
      ]
    },
    {
      "cell_type": "markdown",
      "metadata": {
        "id": "F1L-crLVYq-s",
        "colab_type": "text"
      },
      "source": [
        "구글 드라이브에서 일별 환자 유입 수를 다운로드합니다.\n"
      ]
    },
    {
      "cell_type": "code",
      "metadata": {
        "id": "ISbbDUFl8SvH",
        "colab_type": "code",
        "outputId": "10afaa23-e944-4a28-cbd3-5a661b8e479b",
        "colab": {
          "base_uri": "https://localhost:8080/",
          "height": 87
        }
      },
      "source": [
        "!gdown --id 1VFP4Xe_UrznhCxU84I7pDjNnz4sqcASD"
      ],
      "execution_count": 2,
      "outputs": [
        {
          "output_type": "stream",
          "text": [
            "Downloading...\n",
            "From: https://drive.google.com/uc?id=1VFP4Xe_UrznhCxU84I7pDjNnz4sqcASD\n",
            "To: /content/daily_confirmed.csv\n",
            "\r  0% 0.00/1.94k [00:00<?, ?B/s]\r100% 1.94k/1.94k [00:00<00:00, 1.58MB/s]\n"
          ],
          "name": "stdout"
        }
      ]
    },
    {
      "cell_type": "markdown",
      "metadata": {
        "id": "L9GCMpR58kxd",
        "colab_type": "text"
      },
      "source": [
        "## 데이터 확인"
      ]
    },
    {
      "cell_type": "code",
      "metadata": {
        "id": "3_15jwwrASTP",
        "colab_type": "code",
        "outputId": "2a6cde4f-e5b0-4562-ef1b-53df9df85e37",
        "colab": {
          "base_uri": "https://localhost:8080/",
          "height": 215
        }
      },
      "source": [
        "df = pd.read_csv('daily_confirmed.csv')\n",
        "df.head()"
      ],
      "execution_count": 3,
      "outputs": [
        {
          "output_type": "execute_result",
          "data": {
            "text/html": [
              "<div>\n",
              "<style scoped>\n",
              "    .dataframe tbody tr th:only-of-type {\n",
              "        vertical-align: middle;\n",
              "    }\n",
              "\n",
              "    .dataframe tbody tr th {\n",
              "        vertical-align: top;\n",
              "    }\n",
              "\n",
              "    .dataframe thead th {\n",
              "        text-align: right;\n",
              "    }\n",
              "</style>\n",
              "<table border=\"1\" class=\"dataframe\">\n",
              "  <thead>\n",
              "    <tr style=\"text-align: right;\">\n",
              "      <th></th>\n",
              "      <th>#NAME?</th>\n",
              "      <th>2020/4/1</th>\n",
              "      <th>2020/4/2</th>\n",
              "      <th>2020/4/3</th>\n",
              "      <th>2020/4/4</th>\n",
              "      <th>2020/4/5</th>\n",
              "      <th>2020/4/6</th>\n",
              "      <th>2020/4/7</th>\n",
              "      <th>2020/4/8</th>\n",
              "      <th>2020/4/9</th>\n",
              "      <th>2020/4/10</th>\n",
              "      <th>2020/4/11</th>\n",
              "      <th>2020/4/12</th>\n",
              "      <th>2020/4/13</th>\n",
              "      <th>2020/4/14</th>\n",
              "      <th>2020/4/16</th>\n",
              "      <th>2020/4/17</th>\n",
              "      <th>2020/4/18</th>\n",
              "      <th>2020/4/19</th>\n",
              "      <th>2020/4/20</th>\n",
              "      <th>2020/4/21</th>\n",
              "      <th>2020/4/22</th>\n",
              "      <th>2020/4/23</th>\n",
              "      <th>2020/4/24</th>\n",
              "      <th>2020/4/25</th>\n",
              "      <th>2020/4/26</th>\n",
              "      <th>2020/4/27</th>\n",
              "      <th>2020/4/28</th>\n",
              "      <th>2020/4/29</th>\n",
              "      <th>2020/4/30</th>\n",
              "      <th>2020/5/1</th>\n",
              "      <th>2020/5/2</th>\n",
              "      <th>2020/5/3</th>\n",
              "      <th>2020/5/4</th>\n",
              "      <th>2020/5/5</th>\n",
              "      <th>2020/5/6</th>\n",
              "      <th>2020/5/7</th>\n",
              "      <th>2020/5/8</th>\n",
              "      <th>2020/5/9</th>\n",
              "      <th>2020/5/10</th>\n",
              "      <th>2020/5/11</th>\n",
              "      <th>2020/5/12</th>\n",
              "      <th>2020/5/13</th>\n",
              "      <th>2020/5/14</th>\n",
              "      <th>2020/5/15</th>\n",
              "      <th>2020/5/16</th>\n",
              "      <th>2020/5/17</th>\n",
              "      <th>2020/5/18</th>\n",
              "      <th>2020/5/19</th>\n",
              "      <th>2020/5/20</th>\n",
              "      <th>2020/5/21</th>\n",
              "      <th>2020/5/22</th>\n",
              "      <th>2020/5/23</th>\n",
              "      <th>2020/5/25</th>\n",
              "      <th>2020/5/26</th>\n",
              "      <th>2020/5/27</th>\n",
              "      <th>2020/5/28</th>\n",
              "      <th>2020/5/29</th>\n",
              "      <th>2020/5/30</th>\n",
              "      <th>2020/5/31</th>\n",
              "      <th>2020/6/1</th>\n",
              "      <th>2020/6/2</th>\n",
              "      <th>2020/6/3</th>\n",
              "      <th>2020/6/4</th>\n",
              "      <th>2020/6/5</th>\n",
              "      <th>2020/6/6</th>\n",
              "      <th>2020/6/8</th>\n",
              "    </tr>\n",
              "  </thead>\n",
              "  <tbody>\n",
              "    <tr>\n",
              "      <th>0</th>\n",
              "      <td>China</td>\n",
              "      <td>17</td>\n",
              "      <td>17</td>\n",
              "      <td>17</td>\n",
              "      <td>17</td>\n",
              "      <td>17</td>\n",
              "      <td>17</td>\n",
              "      <td>17</td>\n",
              "      <td>16</td>\n",
              "      <td>16</td>\n",
              "      <td>16</td>\n",
              "      <td>16</td>\n",
              "      <td>16</td>\n",
              "      <td>16</td>\n",
              "      <td>16</td>\n",
              "      <td>16</td>\n",
              "      <td>16</td>\n",
              "      <td>16</td>\n",
              "      <td>16</td>\n",
              "      <td>16</td>\n",
              "      <td>16</td>\n",
              "      <td>16</td>\n",
              "      <td>17</td>\n",
              "      <td>17</td>\n",
              "      <td>17</td>\n",
              "      <td>17</td>\n",
              "      <td>17</td>\n",
              "      <td>17</td>\n",
              "      <td>18</td>\n",
              "      <td>19</td>\n",
              "      <td>19</td>\n",
              "      <td>19</td>\n",
              "      <td>19</td>\n",
              "      <td>19</td>\n",
              "      <td>19</td>\n",
              "      <td>19</td>\n",
              "      <td>19</td>\n",
              "      <td>19</td>\n",
              "      <td>19</td>\n",
              "      <td>19</td>\n",
              "      <td>19</td>\n",
              "      <td>19</td>\n",
              "      <td>19</td>\n",
              "      <td>19</td>\n",
              "      <td>19</td>\n",
              "      <td>19</td>\n",
              "      <td>19</td>\n",
              "      <td>19</td>\n",
              "      <td>19</td>\n",
              "      <td>19</td>\n",
              "      <td>19</td>\n",
              "      <td>19</td>\n",
              "      <td>19</td>\n",
              "      <td>19</td>\n",
              "      <td>19</td>\n",
              "      <td>19</td>\n",
              "      <td>19</td>\n",
              "      <td>19</td>\n",
              "      <td>19</td>\n",
              "      <td>19</td>\n",
              "      <td>19</td>\n",
              "      <td>19</td>\n",
              "      <td>19</td>\n",
              "      <td>19</td>\n",
              "      <td>19</td>\n",
              "      <td>19</td>\n",
              "      <td>19</td>\n",
              "    </tr>\n",
              "    <tr>\n",
              "      <th>1</th>\n",
              "      <td>Asia</td>\n",
              "      <td>64</td>\n",
              "      <td>67</td>\n",
              "      <td>71</td>\n",
              "      <td>82</td>\n",
              "      <td>85</td>\n",
              "      <td>85</td>\n",
              "      <td>87</td>\n",
              "      <td>92</td>\n",
              "      <td>95</td>\n",
              "      <td>95</td>\n",
              "      <td>96</td>\n",
              "      <td>98</td>\n",
              "      <td>100</td>\n",
              "      <td>100</td>\n",
              "      <td>104</td>\n",
              "      <td>107</td>\n",
              "      <td>108</td>\n",
              "      <td>108</td>\n",
              "      <td>108</td>\n",
              "      <td>109</td>\n",
              "      <td>111</td>\n",
              "      <td>112</td>\n",
              "      <td>112</td>\n",
              "      <td>112</td>\n",
              "      <td>115</td>\n",
              "      <td>117</td>\n",
              "      <td>121</td>\n",
              "      <td>122</td>\n",
              "      <td>123</td>\n",
              "      <td>127</td>\n",
              "      <td>129</td>\n",
              "      <td>133</td>\n",
              "      <td>139</td>\n",
              "      <td>140</td>\n",
              "      <td>142</td>\n",
              "      <td>143</td>\n",
              "      <td>151</td>\n",
              "      <td>152</td>\n",
              "      <td>154</td>\n",
              "      <td>156</td>\n",
              "      <td>157</td>\n",
              "      <td>160</td>\n",
              "      <td>162</td>\n",
              "      <td>165</td>\n",
              "      <td>171</td>\n",
              "      <td>172</td>\n",
              "      <td>178</td>\n",
              "      <td>178</td>\n",
              "      <td>184</td>\n",
              "      <td>185</td>\n",
              "      <td>193</td>\n",
              "      <td>197</td>\n",
              "      <td>202</td>\n",
              "      <td>204</td>\n",
              "      <td>205</td>\n",
              "      <td>213</td>\n",
              "      <td>214</td>\n",
              "      <td>220</td>\n",
              "      <td>225</td>\n",
              "      <td>225</td>\n",
              "      <td>226</td>\n",
              "      <td>230</td>\n",
              "      <td>233</td>\n",
              "      <td>234</td>\n",
              "      <td>237</td>\n",
              "      <td>241</td>\n",
              "    </tr>\n",
              "    <tr>\n",
              "      <th>2</th>\n",
              "      <td>Eroupe</td>\n",
              "      <td>298</td>\n",
              "      <td>316</td>\n",
              "      <td>338</td>\n",
              "      <td>355</td>\n",
              "      <td>372</td>\n",
              "      <td>378</td>\n",
              "      <td>389</td>\n",
              "      <td>401</td>\n",
              "      <td>408</td>\n",
              "      <td>410</td>\n",
              "      <td>414</td>\n",
              "      <td>418</td>\n",
              "      <td>421</td>\n",
              "      <td>423</td>\n",
              "      <td>431</td>\n",
              "      <td>434</td>\n",
              "      <td>437</td>\n",
              "      <td>439</td>\n",
              "      <td>439</td>\n",
              "      <td>440</td>\n",
              "      <td>442</td>\n",
              "      <td>442</td>\n",
              "      <td>442</td>\n",
              "      <td>443</td>\n",
              "      <td>446</td>\n",
              "      <td>448</td>\n",
              "      <td>454</td>\n",
              "      <td>456</td>\n",
              "      <td>456</td>\n",
              "      <td>457</td>\n",
              "      <td>460</td>\n",
              "      <td>462</td>\n",
              "      <td>461</td>\n",
              "      <td>462</td>\n",
              "      <td>462</td>\n",
              "      <td>462</td>\n",
              "      <td>462</td>\n",
              "      <td>461</td>\n",
              "      <td>462</td>\n",
              "      <td>463</td>\n",
              "      <td>464</td>\n",
              "      <td>464</td>\n",
              "      <td>464</td>\n",
              "      <td>465</td>\n",
              "      <td>466</td>\n",
              "      <td>467</td>\n",
              "      <td>468</td>\n",
              "      <td>468</td>\n",
              "      <td>468</td>\n",
              "      <td>468</td>\n",
              "      <td>468</td>\n",
              "      <td>468</td>\n",
              "      <td>469</td>\n",
              "      <td>469</td>\n",
              "      <td>469</td>\n",
              "      <td>469</td>\n",
              "      <td>469</td>\n",
              "      <td>472</td>\n",
              "      <td>473</td>\n",
              "      <td>475</td>\n",
              "      <td>475</td>\n",
              "      <td>475</td>\n",
              "      <td>475</td>\n",
              "      <td>476</td>\n",
              "      <td>476</td>\n",
              "      <td>476</td>\n",
              "    </tr>\n",
              "    <tr>\n",
              "      <th>3</th>\n",
              "      <td>America</td>\n",
              "      <td>178</td>\n",
              "      <td>198</td>\n",
              "      <td>218</td>\n",
              "      <td>240</td>\n",
              "      <td>264</td>\n",
              "      <td>286</td>\n",
              "      <td>306</td>\n",
              "      <td>320</td>\n",
              "      <td>339</td>\n",
              "      <td>345</td>\n",
              "      <td>357</td>\n",
              "      <td>377</td>\n",
              "      <td>389</td>\n",
              "      <td>398</td>\n",
              "      <td>412</td>\n",
              "      <td>422</td>\n",
              "      <td>428</td>\n",
              "      <td>431</td>\n",
              "      <td>439</td>\n",
              "      <td>442</td>\n",
              "      <td>444</td>\n",
              "      <td>446</td>\n",
              "      <td>448</td>\n",
              "      <td>451</td>\n",
              "      <td>455</td>\n",
              "      <td>458</td>\n",
              "      <td>460</td>\n",
              "      <td>461</td>\n",
              "      <td>463</td>\n",
              "      <td>466</td>\n",
              "      <td>469</td>\n",
              "      <td>473</td>\n",
              "      <td>476</td>\n",
              "      <td>477</td>\n",
              "      <td>477</td>\n",
              "      <td>479</td>\n",
              "      <td>482</td>\n",
              "      <td>483</td>\n",
              "      <td>485</td>\n",
              "      <td>487</td>\n",
              "      <td>489</td>\n",
              "      <td>490</td>\n",
              "      <td>491</td>\n",
              "      <td>492</td>\n",
              "      <td>495</td>\n",
              "      <td>500</td>\n",
              "      <td>503</td>\n",
              "      <td>507</td>\n",
              "      <td>509</td>\n",
              "      <td>510</td>\n",
              "      <td>511</td>\n",
              "      <td>511</td>\n",
              "      <td>516</td>\n",
              "      <td>517</td>\n",
              "      <td>519</td>\n",
              "      <td>522</td>\n",
              "      <td>524</td>\n",
              "      <td>527</td>\n",
              "      <td>533</td>\n",
              "      <td>536</td>\n",
              "      <td>537</td>\n",
              "      <td>538</td>\n",
              "      <td>539</td>\n",
              "      <td>542</td>\n",
              "      <td>547</td>\n",
              "      <td>552</td>\n",
              "    </tr>\n",
              "    <tr>\n",
              "      <th>4</th>\n",
              "      <td>Africa</td>\n",
              "      <td>3</td>\n",
              "      <td>3</td>\n",
              "      <td>3</td>\n",
              "      <td>3</td>\n",
              "      <td>3</td>\n",
              "      <td>3</td>\n",
              "      <td>3</td>\n",
              "      <td>3</td>\n",
              "      <td>3</td>\n",
              "      <td>3</td>\n",
              "      <td>3</td>\n",
              "      <td>3</td>\n",
              "      <td>3</td>\n",
              "      <td>3</td>\n",
              "      <td>3</td>\n",
              "      <td>3</td>\n",
              "      <td>3</td>\n",
              "      <td>3</td>\n",
              "      <td>3</td>\n",
              "      <td>3</td>\n",
              "      <td>3</td>\n",
              "      <td>3</td>\n",
              "      <td>3</td>\n",
              "      <td>3</td>\n",
              "      <td>3</td>\n",
              "      <td>3</td>\n",
              "      <td>3</td>\n",
              "      <td>3</td>\n",
              "      <td>3</td>\n",
              "      <td>3</td>\n",
              "      <td>3</td>\n",
              "      <td>3</td>\n",
              "      <td>3</td>\n",
              "      <td>3</td>\n",
              "      <td>3</td>\n",
              "      <td>3</td>\n",
              "      <td>3</td>\n",
              "      <td>3</td>\n",
              "      <td>6</td>\n",
              "      <td>7</td>\n",
              "      <td>8</td>\n",
              "      <td>8</td>\n",
              "      <td>8</td>\n",
              "      <td>8</td>\n",
              "      <td>8</td>\n",
              "      <td>8</td>\n",
              "      <td>8</td>\n",
              "      <td>8</td>\n",
              "      <td>8</td>\n",
              "      <td>8</td>\n",
              "      <td>8</td>\n",
              "      <td>8</td>\n",
              "      <td>8</td>\n",
              "      <td>8</td>\n",
              "      <td>8</td>\n",
              "      <td>8</td>\n",
              "      <td>8</td>\n",
              "      <td>8</td>\n",
              "      <td>8</td>\n",
              "      <td>8</td>\n",
              "      <td>8</td>\n",
              "      <td>8</td>\n",
              "      <td>8</td>\n",
              "      <td>8</td>\n",
              "      <td>8</td>\n",
              "      <td>8</td>\n",
              "    </tr>\n",
              "  </tbody>\n",
              "</table>\n",
              "</div>"
            ],
            "text/plain": [
              "    #NAME?  2020/4/1  2020/4/2  ...  2020/6/5  2020/6/6  2020/6/8\n",
              "0    China        17        17  ...        19        19        19\n",
              "1     Asia        64        67  ...       234       237       241\n",
              "2   Eroupe       298       316  ...       476       476       476\n",
              "3  America       178       198  ...       542       547       552\n",
              "4   Africa         3         3  ...         8         8         8\n",
              "\n",
              "[5 rows x 67 columns]"
            ]
          },
          "metadata": {
            "tags": []
          },
          "execution_count": 3
        }
      ]
    },
    {
      "cell_type": "markdown",
      "metadata": {
        "id": "639__gtacb-5",
        "colab_type": "text"
      },
      "source": [
        "각 국가별로 나누어서 따로 산출할 수도 있지만, 일단 모든 국가별 유입자수를 합하여 계산합니다."
      ]
    },
    {
      "cell_type": "markdown",
      "metadata": {
        "id": "hqolOGG3cZcT",
        "colab_type": "text"
      },
      "source": [
        "각 날짜별 누적 유입자 수를 모두 합칩니다\n",
        "(Dataframe -> series)\n",
        "\n",
        "matplot가 날짜를 인식할 수 있도록 pandas의 to_datetime을 사용합니다."
      ]
    },
    {
      "cell_type": "code",
      "metadata": {
        "id": "DbVKPyMybITz",
        "colab_type": "code",
        "colab": {}
      },
      "source": [
        "daily_cases = df.sum(axis=0)\n",
        "daily_cases = daily_cases.drop(daily_cases.index[0])\n",
        "daily_cases.index = pd.to_datetime(daily_cases.index)"
      ],
      "execution_count": 0,
      "outputs": []
    },
    {
      "cell_type": "code",
      "metadata": {
        "id": "QyTmkP2OQLui",
        "colab_type": "code",
        "outputId": "4edecdee-0700-4ca5-9fb1-37eeaf1bb00c",
        "colab": {
          "base_uri": "https://localhost:8080/",
          "height": 281
        }
      },
      "source": [
        "plt.plot(daily_cases)\n",
        "plt.title(\"Cumulative daily cases\");"
      ],
      "execution_count": 5,
      "outputs": [
        {
          "output_type": "display_data",
          "data": {
            "image/png": "[encoded data removed]",
            "text/plain": [
              "<Figure size 432x288 with 1 Axes>"
            ]
          },
          "metadata": {
            "tags": [],
            "needs_background": "light"
          }
        }
      ]
    },
    {
      "cell_type": "markdown",
      "metadata": {
        "id": "K4VmZuoyeAiZ",
        "colab_type": "text"
      },
      "source": [
        "누적 확진자 수에서 일별 확진자 수 증가량을 확인하기 위해 이전 항의 값을 빼 줍니다."
      ]
    },
    {
      "cell_type": "code",
      "metadata": {
        "id": "Lb-6wPBYb1uG",
        "colab_type": "code",
        "outputId": "7a82cba4-3ae4-4ba1-ace0-5116a2c474f2",
        "colab": {
          "base_uri": "https://localhost:8080/",
          "height": 122
        }
      },
      "source": [
        "daily_cases = daily_cases.diff().dropna().astype(np.int64)\n",
        "daily_cases.head()"
      ],
      "execution_count": 6,
      "outputs": [
        {
          "output_type": "execute_result",
          "data": {
            "text/plain": [
              "2020-04-02    41\n",
              "2020-04-03    46\n",
              "2020-04-04    50\n",
              "2020-04-05    44\n",
              "2020-04-06    28\n",
              "dtype: int64"
            ]
          },
          "metadata": {
            "tags": []
          },
          "execution_count": 6
        }
      ]
    },
    {
      "cell_type": "code",
      "metadata": {
        "id": "KVXZ7tCsQvHX",
        "colab_type": "code",
        "outputId": "253533f5-faf8-4834-ef88-d204d315d639",
        "colab": {
          "base_uri": "https://localhost:8080/",
          "height": 281
        }
      },
      "source": [
        "plt.plot(daily_cases)\n",
        "plt.title(\"Daily cases\");"
      ],
      "execution_count": 7,
      "outputs": [
        {
          "output_type": "display_data",
          "data": {
            "image/png": "[encoded data removed]",
            "text/plain": [
              "<Figure size 432x288 with 1 Axes>"
            ]
          },
          "metadata": {
            "tags": [],
            "needs_background": "light"
          }
        }
      ]
    },
    {
      "cell_type": "markdown",
      "metadata": {
        "id": "_KX1spUAgIcy",
        "colab_type": "text"
      },
      "source": [
        "일별 유입자 수에 대한 데이터를 확보했습니다.\n",
        "\n",
        "데이터의 양은 다음과 같습니다."
      ]
    },
    {
      "cell_type": "code",
      "metadata": {
        "id": "Ij7GhQKsN094",
        "colab_type": "code",
        "outputId": "9713399a-8537-4e1e-fd46-1ea0e6a7c874",
        "colab": {
          "base_uri": "https://localhost:8080/",
          "height": 34
        }
      },
      "source": [
        "daily_cases.shape"
      ],
      "execution_count": 8,
      "outputs": [
        {
          "output_type": "execute_result",
          "data": {
            "text/plain": [
              "(65,)"
            ]
          },
          "metadata": {
            "tags": []
          },
          "execution_count": 8
        }
      ]
    },
    {
      "cell_type": "markdown",
      "metadata": {
        "id": "T4ONc718zaAW",
        "colab_type": "text"
      },
      "source": [
        "## 전처리 작업\n",
        "\n",
        "데이터의 성능 측정을 위해 10일 정도를 테스트 데이터로 분류합니다:"
      ]
    },
    {
      "cell_type": "code",
      "metadata": {
        "id": "4xsvSUYFRwkk",
        "colab_type": "code",
        "outputId": "8e25f1fb-1067-4892-93a2-52c9a9646e0a",
        "colab": {
          "base_uri": "https://localhost:8080/",
          "height": 228
        }
      },
      "source": [
        "test_data_size = 10\n",
        "\n",
        "train_data = daily_cases[:-test_data_size]\n",
        "test_data = daily_cases[-test_data_size:]\n",
        "\n",
        "print(test_data)\n",
        "train_data.shape"
      ],
      "execution_count": 10,
      "outputs": [
        {
          "output_type": "stream",
          "text": [
            "2020-05-29     3\n",
            "2020-05-30    12\n",
            "2020-05-31    12\n",
            "2020-06-01     5\n",
            "2020-06-02     2\n",
            "2020-06-03     5\n",
            "2020-06-04     4\n",
            "2020-06-05     5\n",
            "2020-06-06     8\n",
            "2020-06-08     9\n",
            "dtype: int64\n"
          ],
          "name": "stdout"
        },
        {
          "output_type": "execute_result",
          "data": {
            "text/plain": [
              "(55,)"
            ]
          },
          "metadata": {
            "tags": []
          },
          "execution_count": 10
        }
      ]
    },
    {
      "cell_type": "markdown",
      "metadata": {
        "id": "i8SRrEWSZujN",
        "colab_type": "text"
      },
      "source": [
        "성능의 향상을 위해 sciket-learn이 제공하는 Scaler를 사용합니다.\n",
        "(MinMaxScaler 외에도 다른 Scaler들이 있으나, 시험해보지 않았습니다.)"
      ]
    },
    {
      "cell_type": "code",
      "metadata": {
        "id": "ZMKl_mSZUENB",
        "colab_type": "code",
        "outputId": "b5c9bcea-3e60-4396-d4e8-b090310ca96d",
        "colab": {
          "base_uri": "https://localhost:8080/",
          "height": 193
        }
      },
      "source": [
        "scaler = MinMaxScaler()\n",
        "\n",
        "scaler = scaler.fit(np.expand_dims(train_data, axis=1))\n",
        "\n",
        "train_data = scaler.transform(np.expand_dims(train_data, axis=1))\n",
        "\n",
        "test_data = scaler.transform(np.expand_dims(test_data, axis=1))\n",
        "\n",
        "print(test_data)\n"
      ],
      "execution_count": 11,
      "outputs": [
        {
          "output_type": "stream",
          "text": [
            "[[0.04081633]\n",
            " [0.2244898 ]\n",
            " [0.2244898 ]\n",
            " [0.08163265]\n",
            " [0.02040816]\n",
            " [0.08163265]\n",
            " [0.06122449]\n",
            " [0.08163265]\n",
            " [0.14285714]\n",
            " [0.16326531]]\n"
          ],
          "name": "stdout"
        }
      ]
    },
    {
      "cell_type": "markdown",
      "metadata": {
        "id": "-KD-OgmQbdac",
        "colab_type": "text"
      },
      "source": [
        "거대한 덩어리를 가지고 한번에 예측을 다 끝낼 수 없으므로, 한 점을 기준으로 5일 이전까지의 데이터를 가지고 그 다음 날의 값을 예측하도록 했습니다."
      ]
    },
    {
      "cell_type": "code",
      "metadata": {
        "id": "tN7P8h-uHSKV",
        "colab_type": "code",
        "colab": {}
      },
      "source": [
        "\n",
        "def create_sequences(data, seq_length):\n",
        "    xs = []\n",
        "    ys = []\n",
        "\n",
        "    for i in range(len(data)-seq_length-1):\n",
        "        x = data[i:(i+seq_length)]\n",
        "        y = data[i+seq_length]\n",
        "        xs.append(x)\n",
        "        ys.append(y)\n",
        "\n",
        "    return np.array(xs), np.array(ys)"
      ],
      "execution_count": 0,
      "outputs": []
    },
    {
      "cell_type": "code",
      "metadata": {
        "id": "92DqpTj8IxDI",
        "colab_type": "code",
        "outputId": "fbf3d8e4-7e31-46f2-8a10-d89827560f0c",
        "colab": {
          "base_uri": "https://localhost:8080/",
          "height": 52
        }
      },
      "source": [
        "seq_length = 7\n",
        "X_train, y_train = create_sequences(train_data, seq_length)\n",
        "X_test, y_test = create_sequences(test_data, seq_length)\n",
        "\n",
        "print (y_test)\n",
        "\n",
        "X_train = torch.from_numpy(X_train).float()\n",
        "y_train = torch.from_numpy(y_train).float()\n",
        "\n",
        "X_test = torch.from_numpy(X_test).float()\n",
        "y_test = torch.from_numpy(y_test).float()"
      ],
      "execution_count": 13,
      "outputs": [
        {
          "output_type": "stream",
          "text": [
            "[[0.08163265]\n",
            " [0.14285714]]\n"
          ],
          "name": "stdout"
        }
      ]
    },
    {
      "cell_type": "markdown",
      "metadata": {
        "id": "eFH9Q_R2mIDm",
        "colab_type": "text"
      },
      "source": [
        "작업이 끝나면 X의 값은 3차원 배열의 형태를 가지게 됩니다."
      ]
    },
    {
      "cell_type": "code",
      "metadata": {
        "id": "5Db7NMt1haaw",
        "colab_type": "code",
        "outputId": "e5b75e35-ec3f-437b-a4c8-661ca9def751",
        "colab": {
          "base_uri": "https://localhost:8080/",
          "height": 34
        }
      },
      "source": [
        "X_train.shape"
      ],
      "execution_count": 14,
      "outputs": [
        {
          "output_type": "execute_result",
          "data": {
            "text/plain": [
              "torch.Size([47, 7, 1])"
            ]
          },
          "metadata": {
            "tags": []
          },
          "execution_count": 14
        }
      ]
    },
    {
      "cell_type": "markdown",
      "metadata": {
        "id": "egnpqcZwP59F",
        "colab_type": "text"
      },
      "source": [
        "## 모델 만들기\n"
      ]
    },
    {
      "cell_type": "code",
      "metadata": {
        "id": "vS1uFo4-qVT2",
        "colab_type": "code",
        "colab": {}
      },
      "source": [
        "class CoronaVirusPredictor(nn.Module):\n",
        "\n",
        "  def __init__(self, n_features, n_hidden, seq_len, n_layers=2):\n",
        "    super(CoronaVirusPredictor, self).__init__()\n",
        "\n",
        "    self.n_hidden = n_hidden\n",
        "    self.seq_len = seq_len\n",
        "    self.n_layers = n_layers\n",
        "\n",
        "    self.lstm = nn.LSTM(\n",
        "      input_size=n_features,\n",
        "      hidden_size=n_hidden,\n",
        "      num_layers=n_layers,\n",
        "      dropout=0.5\n",
        "    )\n",
        "\n",
        "    self.fc_layer=nn.Sequential(\n",
        "        ##n_hidden이 입력 인자의 개수이므로, concat이 진행되었다면 첫 번째 인자는 n_hidden + len(새로운 데이터)값이 되어야 함.\n",
        "        nn.Linear(n_hidden, 512),\n",
        "\n",
        "        nn.ELU(),\n",
        "        nn.Dropout2d(0.2),\n",
        "        \n",
        "        nn.Linear(512,10),\n",
        "        nn.Linear(10,1)\n",
        "    )\n",
        "\n",
        "  def reset_hidden_state(self):\n",
        "    self.hidden = (\n",
        "        torch.zeros(self.n_layers, self.seq_len, self.n_hidden),\n",
        "        torch.zeros(self.n_layers, self.seq_len, self.n_hidden)\n",
        "    )\n",
        "\n",
        "  def forward(self, sequences):\n",
        "    lstm_out, self.hidden = self.lstm(\n",
        "      sequences.view(len(sequences), self.seq_len, -1),\n",
        "      self.hidden\n",
        "    )\n",
        "    last_time_step = lstm_out.view(self.seq_len, len(sequences), self.n_hidden)[-1]\n",
        "    ## 이곳에 추가 데이터 입력\n",
        "    ## last_time_step(아마 tensor 자료형)과 새로운 데이터에 concat를 수행\n",
        "    y_pred = self.fc_layer(last_time_step)\n",
        "    return y_pred"
      ],
      "execution_count": 0,
      "outputs": []
    },
    {
      "cell_type": "markdown",
      "metadata": {
        "id": "xljmrTGUfduG",
        "colab_type": "text"
      },
      "source": [
        "기본적인 구조는 CNN과 비슷합니다.\n",
        "\n",
        "forward에서 코드가 진행되며 convolution을 진행하는 대신, LSTM(Long Short-Term Memory models)를 사용합니다.\n",
        "\n",
        "매번 돌릴때마다 hidden_state 또한 초기화시켜주어야 하기 때문에 reset_hidden_state를 사용합니다.\n",
        "\n"
      ]
    },
    {
      "cell_type": "markdown",
      "metadata": {
        "id": "FuggK-kC9BMQ",
        "colab_type": "text"
      },
      "source": [
        "## 학습 함수\n"
      ]
    },
    {
      "cell_type": "code",
      "metadata": {
        "id": "vsuBhEJ1fLnM",
        "colab_type": "code",
        "colab": {}
      },
      "source": [
        "def train_model(\n",
        "  model, \n",
        "  train_data, \n",
        "  train_labels, \n",
        "  test_data=None, \n",
        "  test_labels=None\n",
        "):\n",
        "  loss_fn = torch.nn.MSELoss(reduction='sum')\n",
        "\n",
        "  optimiser = torch.optim.Adam(model.parameters(),lr=1e-3)\n",
        "  num_epochs = 100\n",
        "\n",
        "  train_hist = np.zeros(num_epochs)\n",
        "  test_hist = np.zeros(num_epochs)\n",
        "\n",
        "  for t in range(num_epochs):\n",
        "    model.reset_hidden_state()\n",
        "\n",
        "    y_pred = model(X_train)\n",
        "\n",
        "    loss = loss_fn(y_pred.float(), y_train)\n",
        "\n",
        "    if test_data is not None:\n",
        "      with torch.no_grad():\n",
        "        y_test_pred = model(X_test)\n",
        "        test_loss = loss_fn(y_test_pred.float(), y_test)\n",
        "      test_hist[t] = test_loss.item()\n",
        "\n",
        "      if t % 10 == 0:  \n",
        "        print(f'Epoch {t} train loss: {loss.item()} test loss: {test_loss.item()}')\n",
        "    elif t % 10 == 0:\n",
        "      print(f'Epoch {t} train loss: {loss.item()}')\n",
        "\n",
        "    train_hist[t] = loss.item()\n",
        "    \n",
        "    optimiser.zero_grad()\n",
        "\n",
        "    loss.backward()\n",
        "\n",
        "    optimiser.step()\n",
        "  \n",
        "  return model.eval(), train_hist, test_hist"
      ],
      "execution_count": 0,
      "outputs": []
    },
    {
      "cell_type": "code",
      "metadata": {
        "id": "6f_ebtcBqaoK",
        "colab_type": "code",
        "outputId": "84cf7af8-7f2b-410f-f51f-b19eaf17eefd",
        "colab": {
          "base_uri": "https://localhost:8080/",
          "height": 193
        }
      },
      "source": [
        "model = CoronaVirusPredictor(\n",
        "  n_features=1, \n",
        "  n_hidden=1024, \n",
        "  seq_len=seq_length, \n",
        "  n_layers=2\n",
        ")\n",
        "model, train_hist, test_hist = train_model(\n",
        "  model, \n",
        "  X_train, \n",
        "  y_train, \n",
        "  X_test, \n",
        "  y_test\n",
        ")"
      ],
      "execution_count": 21,
      "outputs": [
        {
          "output_type": "stream",
          "text": [
            "Epoch 0 train loss: 1.4214009046554565 test loss: 0.015214908868074417\n",
            "Epoch 10 train loss: 0.769065797328949 test loss: 0.0027363828849047422\n",
            "Epoch 20 train loss: 0.7652221322059631 test loss: 0.00490500358864665\n",
            "Epoch 30 train loss: 0.7643346786499023 test loss: 0.0055848704650998116\n",
            "Epoch 40 train loss: 0.7455745339393616 test loss: 0.0045377095229923725\n",
            "Epoch 50 train loss: 0.7180489897727966 test loss: 0.0035720637533813715\n",
            "Epoch 60 train loss: 0.7648704051971436 test loss: 0.009980378672480583\n",
            "Epoch 70 train loss: 0.7493295073509216 test loss: 0.003073429688811302\n",
            "Epoch 80 train loss: 0.8404231667518616 test loss: 0.018905697390437126\n",
            "Epoch 90 train loss: 1.108719825744629 test loss: 0.039082251489162445\n"
          ],
          "name": "stdout"
        }
      ]
    },
    {
      "cell_type": "code",
      "metadata": {
        "id": "gkqy6CNh9AqC",
        "colab_type": "code",
        "outputId": "11b2e08a-5d4a-4ec8-eb99-a5b6e1d406fc",
        "colab": {
          "base_uri": "https://localhost:8080/",
          "height": 269
        }
      },
      "source": [
        "plt.plot(train_hist, label=\"Training loss\")\n",
        "plt.plot(test_hist, label=\"Test loss\")\n",
        "plt.ylim((0, 5))\n",
        "plt.legend();"
      ],
      "execution_count": 22,
      "outputs": [
        {
          "output_type": "display_data",
          "data": {
            "image/png": "[encoded data removed]",
            "text/plain": [
              "<Figure size 432x288 with 1 Axes>"
            ]
          },
          "metadata": {
            "tags": [],
            "needs_background": "light"
          }
        }
      ]
    },
    {
      "cell_type": "markdown",
      "metadata": {
        "id": "Weyp3LRBGEvv",
        "colab_type": "text"
      },
      "source": [
        "## 예측\n",
        "\n",
        "원래 이 모델은 주어진 데이터의 다음날까지밖에 예측할 수 없지만,\n",
        "예측 값을 사용하여 그 다음날을 예측하는 방식으로 더 많은 날을 에측합니다. "
      ]
    },
    {
      "cell_type": "code",
      "metadata": {
        "id": "6RTIMgBZ_hG_",
        "colab_type": "code",
        "colab": {}
      },
      "source": [
        "with torch.no_grad():\n",
        "  test_seq = X_test[:1]\n",
        "  preds = []\n",
        "  for _ in range(len(X_test)):\n",
        "    y_test_pred = model(test_seq)\n",
        "    pred = torch.flatten(y_test_pred).item()\n",
        "    preds.append(pred)\n",
        "    new_seq = test_seq.numpy().flatten()\n",
        "    new_seq = np.append(new_seq, [pred])\n",
        "    new_seq = new_seq[1:]\n",
        "    test_seq = torch.as_tensor(new_seq).view(1, seq_length, 1).float()"
      ],
      "execution_count": 0,
      "outputs": []
    },
    {
      "cell_type": "markdown",
      "metadata": {
        "id": "YBn9VijrubKS",
        "colab_type": "text"
      },
      "source": [
        "직관성을 위해 이전에 scaling 했던 것을 다시 돌려놓습니다."
      ]
    },
    {
      "cell_type": "code",
      "metadata": {
        "id": "iPJMdlBEErg3",
        "colab_type": "code",
        "colab": {}
      },
      "source": [
        "true_cases = scaler.inverse_transform(\n",
        "    np.expand_dims(y_test.flatten().numpy(), axis=0)\n",
        ").flatten()\n",
        "\n",
        "predicted_cases = scaler.inverse_transform(\n",
        "  np.expand_dims(preds, axis=0)\n",
        ").flatten()"
      ],
      "execution_count": 0,
      "outputs": []
    },
    {
      "cell_type": "markdown",
      "metadata": {
        "id": "VGB4dQkeJ-92",
        "colab_type": "text"
      },
      "source": [
        "그래프를 찍습니다,"
      ]
    },
    {
      "cell_type": "code",
      "metadata": {
        "id": "L_2LezBrE8VF",
        "colab_type": "code",
        "outputId": "28a16c23-9895-4114-f5c4-369132126ebe",
        "colab": {
          "base_uri": "https://localhost:8080/",
          "height": 265
        }
      },
      "source": [
        "plt.plot(\n",
        "  daily_cases.index[:len(train_data)], \n",
        "  scaler.inverse_transform(train_data).flatten(),\n",
        "  label='Historical Daily Cases'\n",
        ")\n",
        "\n",
        "plt.plot(\n",
        "  daily_cases.index[len(train_data):len(train_data) + len(true_cases)], \n",
        "  true_cases,\n",
        "  label='Real Daily Cases'\n",
        ")\n",
        "\n",
        "plt.plot(\n",
        "  daily_cases.index[len(train_data):len(train_data) + len(true_cases)], \n",
        "  predicted_cases, \n",
        "  label='Predicted Daily Cases'\n",
        ")\n",
        "\n",
        "plt.legend();"
      ],
      "execution_count": 25,
      "outputs": [
        {
          "output_type": "display_data",
          "data": {
            "image/png": "[encoded data removed]",
            "text/plain": [
              "<Figure size 432x288 with 1 Axes>"
            ]
          },
          "metadata": {
            "tags": [],
            "needs_background": "light"
          }
        }
      ]
    },
    {
      "cell_type": "markdown",
      "metadata": {
        "id": "cmX5Cq_aGA2s",
        "colab_type": "text"
      },
      "source": [
        "## + 모든 데이터 사용하기\n",
        "\n",
        "모든 데이터를 학습에 사용해보았습니다. 이렇게 하면 검증 단계가 빠지는 대신 미래의 결과를 예측할 수 있습니다. (최종 단계)"
      ]
    },
    {
      "cell_type": "code",
      "metadata": {
        "id": "WbKlhXMuGhco",
        "colab_type": "code",
        "outputId": "bd904ff6-e574-4b15-e427-42ab341b12f9",
        "colab": {
          "base_uri": "https://localhost:8080/",
          "height": 34
        }
      },
      "source": [
        "scaler = MinMaxScaler()\n",
        "\n",
        "scaler = scaler.fit(np.expand_dims(daily_cases, axis=1))\n",
        "\n",
        "all_data = scaler.transform(np.expand_dims(daily_cases, axis=1))\n",
        "\n",
        "all_data.shape"
      ],
      "execution_count": 26,
      "outputs": [
        {
          "output_type": "execute_result",
          "data": {
            "text/plain": [
              "(65, 1)"
            ]
          },
          "metadata": {
            "tags": []
          },
          "execution_count": 26
        }
      ]
    },
    {
      "cell_type": "code",
      "metadata": {
        "id": "toqibTKDGzzm",
        "colab_type": "code",
        "outputId": "7c623bd4-ca2a-4c81-d13e-5179edcefb3a",
        "colab": {
          "base_uri": "https://localhost:8080/",
          "height": 193
        }
      },
      "source": [
        "X_all, y_all = create_sequences(all_data, seq_length)\n",
        "\n",
        "X_all = torch.from_numpy(X_all).float()\n",
        "y_all = torch.from_numpy(y_all).float()\n",
        "\n",
        "model = CoronaVirusPredictor(\n",
        "  n_features=1, \n",
        "  n_hidden=1024, \n",
        "  seq_len=seq_length, \n",
        "  n_layers=4\n",
        ")\n",
        "model, train_hist, _ = train_model(model, X_all, y_all)"
      ],
      "execution_count": 27,
      "outputs": [
        {
          "output_type": "stream",
          "text": [
            "Epoch 0 train loss: 3.4509341716766357\n",
            "Epoch 10 train loss: 2.654116630554199\n",
            "Epoch 20 train loss: 0.8934652805328369\n",
            "Epoch 30 train loss: 0.887997567653656\n",
            "Epoch 40 train loss: 0.7986295819282532\n",
            "Epoch 50 train loss: 0.742999255657196\n",
            "Epoch 60 train loss: 0.7766262292861938\n",
            "Epoch 70 train loss: 0.7612345218658447\n",
            "Epoch 80 train loss: 0.7864864468574524\n",
            "Epoch 90 train loss: 0.7660518288612366\n"
          ],
          "name": "stdout"
        }
      ]
    },
    {
      "cell_type": "markdown",
      "metadata": {
        "id": "Uw4JkktB9ceM",
        "colab_type": "text"
      },
      "source": [
        "## 예측하기\n"
      ]
    },
    {
      "cell_type": "code",
      "metadata": {
        "id": "JBEHtvM9HbCi",
        "colab_type": "code",
        "colab": {}
      },
      "source": [
        "DAYS_TO_PREDICT = 12\n",
        "\n",
        "with torch.no_grad():\n",
        "  test_seq = X_all[:1]\n",
        "  preds = []\n",
        "  for _ in range(DAYS_TO_PREDICT):\n",
        "    y_test_pred = model(test_seq)\n",
        "    pred = torch.flatten(y_test_pred).item()\n",
        "    preds.append(pred)\n",
        "    new_seq = test_seq.numpy().flatten()\n",
        "    new_seq = np.append(new_seq, [pred])\n",
        "    new_seq = new_seq[1:]\n",
        "    test_seq = torch.as_tensor(new_seq).view(1, seq_length, 1).float()"
      ],
      "execution_count": 0,
      "outputs": []
    },
    {
      "cell_type": "code",
      "metadata": {
        "id": "Hq7oUHf7H8nU",
        "colab_type": "code",
        "colab": {}
      },
      "source": [
        "predicted_cases = scaler.inverse_transform(\n",
        "  np.expand_dims(preds, axis=0)\n",
        ").flatten()"
      ],
      "execution_count": 0,
      "outputs": []
    },
    {
      "cell_type": "code",
      "metadata": {
        "id": "0Dz4tBTeEb7r",
        "colab_type": "code",
        "outputId": "bd434ac7-b01d-4a40-fa09-48f62bd08f36",
        "colab": {
          "base_uri": "https://localhost:8080/",
          "height": 34
        }
      },
      "source": [
        "daily_cases.index[-1]"
      ],
      "execution_count": 30,
      "outputs": [
        {
          "output_type": "execute_result",
          "data": {
            "text/plain": [
              "Timestamp('2020-06-08 00:00:00')"
            ]
          },
          "metadata": {
            "tags": []
          },
          "execution_count": 30
        }
      ]
    },
    {
      "cell_type": "code",
      "metadata": {
        "id": "ZwQxZz3BDrlI",
        "colab_type": "code",
        "outputId": "f57aedc9-24c1-4665-c4a8-4e87664e329a",
        "colab": {
          "base_uri": "https://localhost:8080/",
          "height": 265
        }
      },
      "source": [
        "predicted_index = pd.date_range(\n",
        "  start=daily_cases.index[-1],\n",
        "  periods=DAYS_TO_PREDICT + 1,\n",
        "  closed='right'\n",
        ")\n",
        "\n",
        "predicted_cases = pd.Series(\n",
        "  data=predicted_cases,\n",
        "  index=predicted_index\n",
        ")\n",
        "\n",
        "plt.plot(predicted_cases, label='Predicted Daily Cases')\n",
        "plt.legend();"
      ],
      "execution_count": 31,
      "outputs": [
        {
          "output_type": "display_data",
          "data": {
            "image/png": "[encoded data removed]",
            "text/plain": [
              "<Figure size 432x288 with 1 Axes>"
            ]
          },
          "metadata": {
            "tags": [],
            "needs_background": "light"
          }
        }
      ]
    },
    {
      "cell_type": "code",
      "metadata": {
        "id": "y8CzaJ-Qs37A",
        "colab_type": "code",
        "outputId": "0bc04bc9-b86f-415f-866c-4b1e6ef4a1b3",
        "colab": {
          "base_uri": "https://localhost:8080/",
          "height": 1000
        }
      },
      "source": [
        "all_data"
      ],
      "execution_count": 32,
      "outputs": [
        {
          "output_type": "execute_result",
          "data": {
            "text/plain": [
              "array([[0.81632653],\n",
              "       [0.91836735],\n",
              "       [1.        ],\n",
              "       [0.87755102],\n",
              "       [0.55102041],\n",
              "       [0.65306122],\n",
              "       [0.59183673],\n",
              "       [0.57142857],\n",
              "       [0.14285714],\n",
              "       [0.32653061],\n",
              "       [0.51020408],\n",
              "       [0.32653061],\n",
              "       [0.20408163],\n",
              "       [0.51020408],\n",
              "       [0.30612245],\n",
              "       [0.18367347],\n",
              "       [0.08163265],\n",
              "       [0.14285714],\n",
              "       [0.08163265],\n",
              "       [0.10204082],\n",
              "       [0.06122449],\n",
              "       [0.02040816],\n",
              "       [0.06122449],\n",
              "       [0.18367347],\n",
              "       [0.12244898],\n",
              "       [0.2244898 ],\n",
              "       [0.08163265],\n",
              "       [0.06122449],\n",
              "       [0.14285714],\n",
              "       [0.14285714],\n",
              "       [0.18367347],\n",
              "       [0.14285714],\n",
              "       [0.04081633],\n",
              "       [0.02040816],\n",
              "       [0.04081633],\n",
              "       [0.20408163],\n",
              "       [0.        ],\n",
              "       [0.14285714],\n",
              "       [0.10204082],\n",
              "       [0.08163265],\n",
              "       [0.06122449],\n",
              "       [0.04081633],\n",
              "       [0.08163265],\n",
              "       [0.18367347],\n",
              "       [0.12244898],\n",
              "       [0.18367347],\n",
              "       [0.06122449],\n",
              "       [0.14285714],\n",
              "       [0.02040816],\n",
              "       [0.16326531],\n",
              "       [0.06122449],\n",
              "       [0.20408163],\n",
              "       [0.04081633],\n",
              "       [0.04081633],\n",
              "       [0.20408163],\n",
              "       [0.04081633],\n",
              "       [0.2244898 ],\n",
              "       [0.2244898 ],\n",
              "       [0.08163265],\n",
              "       [0.02040816],\n",
              "       [0.08163265],\n",
              "       [0.06122449],\n",
              "       [0.08163265],\n",
              "       [0.14285714],\n",
              "       [0.16326531]])"
            ]
          },
          "metadata": {
            "tags": []
          },
          "execution_count": 32
        }
      ]
    },
    {
      "cell_type": "markdown",
      "metadata": {
        "id": "qBK71BNma8ec",
        "colab_type": "text"
      },
      "source": [
        "그래프 찍기"
      ]
    },
    {
      "cell_type": "code",
      "metadata": {
        "id": "XyBC8y5FFBVX",
        "colab_type": "code",
        "outputId": "adb918c3-72fd-458e-e712-d13ee8c90ae8",
        "colab": {
          "base_uri": "https://localhost:8080/",
          "height": 265
        }
      },
      "source": [
        "plt.plot(daily_cases, label='Historical Daily Cases')\n",
        "plt.plot(predicted_cases, label='Predicted Daily Cases')\n",
        "plt.legend();"
      ],
      "execution_count": 33,
      "outputs": [
        {
          "output_type": "display_data",
          "data": {
            "image/png": "[encoded data removed]",
            "text/plain": [
              "<Figure size 432x288 with 1 Axes>"
            ]
          },
          "metadata": {
            "tags": [],
            "needs_background": "light"
          }
        }
      ]
    },
    {
      "cell_type": "markdown",
      "metadata": {
        "id": "p6IgK4dTbhQL",
        "colab_type": "text"
      },
      "source": [
        ""
      ]
    },
    {
      "cell_type": "markdown",
      "metadata": {
        "id": "tVUVqYlPbh63",
        "colab_type": "text"
      },
      "source": [
        "## 결론"
      ]
    },
    {
      "cell_type": "markdown",
      "metadata": {
        "id": "Ycqlac8X-9q-",
        "colab_type": "text"
      },
      "source": [
        "## References\n",
        "\n",
        "- [Sequence Models PyTorch Tutorial](https://pytorch.org/tutorials/beginner/nlp/sequence_models_tutorial.html)\n",
        "- [LSTM for time series prediction](https://towardsdatascience.com/lstm-for-time-series-prediction-de8aeb26f2ca)\n",
        "- [Time Series Prediction using LSTM with PyTorch in Python](https://stackabuse.com/time-series-prediction-using-lstm-with-pytorch-in-python/)\n",
        "- [Stateful LSTM in Keras](https://philipperemy.github.io/keras-stateful-lstm/)\n",
        "- [LSTMs for Time Series in PyTorch](https://www.jessicayung.com/lstms-for-time-series-in-pytorch/)\n",
        "- [covid-19-analysis](https://github.com/AaronWard/covid-19-analysis)\n",
        "- [Statistical Consequences of Fat Tails: Real World Preasymptotics, Epistemology, and Applications](https://www.researchers.one/article/2020-01-21)\n",
        "- [covid-19 Forecasting with an RNN](https://www.kaggle.com/frlemarchand/covid-19-forecasting-with-an-rnn/input?select=test.csv)\n",
        "- [Time Series Forecasting with LSTMs for Daily Coronavirus Cases using PyTorch in Python](https://www.curiousily.com/posts/time-series-forecasting-with-lstm-for-daily-coronavirus-cases/)"
      ]
    }
  ]
}